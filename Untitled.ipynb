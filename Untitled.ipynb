{
 "cells": [
  {
   "cell_type": "code",
   "execution_count": 1,
   "metadata": {
    "collapsed": false
   },
   "outputs": [
    {
     "data": {
      "image/png": "[encoded data removed]",
      "text/plain": [
       "<matplotlib.figure.Figure at 0x1080892d0>"
      ]
     },
     "metadata": {},
     "output_type": "display_data"
    }
   ],
   "source": [
    "import numpy as np\n",
    "import matplotlib.pyplot as plt\n",
    "import os\n",
    "% matplotlib inline\n",
    "\n",
    "def hill(x,k0,k1,k2,n):\n",
    "    return k0+k1*(x**n)/(x**n+k2**n)\n",
    "\n",
    "def derivative_value(u, t, k):\n",
    "    A, I, F = u\n",
    "    dAdt = hill(A,k[0],k[1],k[2],3)*I-hill(F,k[3],k[4],1,1)*A\n",
    "    dIdt = -dAdt\n",
    "    dFdt = k[5]*A - k[6]*F\n",
    "    return [dAdt, dIdt, dFdt]\n",
    "\n",
    "def solve_cross(k):\n",
    "    x = np.linspace(0.00001, 1, 10000)\n",
    "    act = hill(x,k[0],k[1],k[2],3)*(k[7]-x)\n",
    "    deact = hill(k[5]/k[6]*x,k[3],k[4],1,1)*x\n",
    "    index = np.where(np.diff(np.sign(act - deact)))[0]\n",
    "    ss_A = x[index[0]]\n",
    "    plt.subplot(111,ylim=[0,1])\n",
    "    plt.plot(x,act)\n",
    "    plt.plot(x,deact)\n",
    "    return [ss_A,k[7]-ss_A,k[5]/k[6]*ss_A]\n",
    "\n",
    "k_R = [0.05,1,0.4, 0.5,0.56, 0.2,0.025,1]\n",
    "\n",
    "ss = solve_cross(k_R)"
   ]
  },
  {
   "cell_type": "code",
   "execution_count": null,
   "metadata": {
    "collapsed": false
   },
   "outputs": [],
   "source": []
  },
  {
   "cell_type": "code",
   "execution_count": 2,
   "metadata": {
    "collapsed": false
   },
   "outputs": [
    {
     "data": {
      "text/plain": [
       "[<matplotlib.lines.Line2D at 0x109575850>]"
      ]
     },
     "execution_count": 2,
     "metadata": {},
     "output_type": "execute_result"
    },
    {
     "data": {
      "image/png": "[encoded data removed]",
      "text/plain": [
       "<matplotlib.figure.Figure at 0x1050ecb10>"
      ]
     },
     "metadata": {},
     "output_type": "display_data"
    }
   ],
   "source": [
    "from scipy.integrate import odeint\n",
    "t_total = 600\n",
    "c = odeint(derivative_value,solve_cross(k_R),np.arange(0,t_total),args=tuple([k_R]))\n",
    "plt.plot(c[:,0],'b')\n",
    "plt.plot(c[:,1],'r')\n",
    "plt.plot(c[:,2],'c')\n",
    "\n"
   ]
  },
  {
   "cell_type": "code",
   "execution_count": 19,
   "metadata": {
    "collapsed": false
   },
   "outputs": [],
   "source": [
    "basedir = os.path.expanduser('~/Documents/data_working/pde2d/')\n",
    "k_D = [0.1,1,0.1]\n",
    "chemical=0;amp=0.1;start=0.1;end=0.2;cpi=0.5;cpj=0.5;cpdi=0.05;cpdj=0.05;\n",
    "p = [chemical,amp,start,end,cpi,cpj,cpdi,cpdj]\n",
    "T = 10\n",
    "with open(basedir+\"params.txt\", \"a\") as myfile:\n",
    "    line = \";\".join([\",\".join([\"{0:.3g}\".format(x) for x in t]) for t in [k_R,ss,k_D,p]])+\";\"+str(T)+\"\\n\"\n",
    "    myfile.write(line)\n"
   ]
  },
  {
   "cell_type": "code",
   "execution_count": null,
   "metadata": {
    "collapsed": false
   },
   "outputs": [],
   "source": []
  },
  {
   "cell_type": "code",
   "execution_count": null,
   "metadata": {
    "collapsed": false
   },
   "outputs": [],
   "source": []
  },
  {
   "cell_type": "code",
   "execution_count": null,
   "metadata": {
    "collapsed": true
   },
   "outputs": [],
   "source": []
  }
 ],
 "metadata": {
  "kernelspec": {
   "display_name": "Python 2",
   "language": "python",
   "name": "python2"
  },
  "language_info": {
   "codemirror_mode": {
    "name": "ipython",
    "version": 2
   },
   "file_extension": ".py",
   "mimetype": "text/x-python",
   "name": "python",
   "nbconvert_exporter": "python",
   "pygments_lexer": "ipython2",
   "version": "2.7.12"
  }
 },
 "nbformat": 4,
 "nbformat_minor": 0
}
