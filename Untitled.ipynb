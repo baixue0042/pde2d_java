{
 "cells": [
  {
   "cell_type": "code",
   "execution_count": 4,
   "metadata": {
    "collapsed": false
   },
   "outputs": [],
   "source": [
    "import numpy as np\n",
    "import matplotlib.pyplot as plt\n",
    "import os\n",
    "% matplotlib inline\n",
    "basedir = os.path.expanduser('~/Documents/data/')\n",
    "\n",
    "k = [0.05,1,0.4, 0.5,0.56, 0.2,0.025,2]\n",
    "def f1(x,k):\n",
    "    return k[0]+k[1]*x**3/(x**3+k[2]**3)*(k[7]-x)\n",
    "def f2(x,k):\n",
    "    return k[3]+k[4]*k[5]/k[6]*x/(k[5]/k[6]*x+1)*x\n"
   ]
  },
  {
   "cell_type": "code",
   "execution_count": 5,
   "metadata": {
    "collapsed": false
   },
   "outputs": [
    {
     "data": {
      "text/plain": [
       "array([ 0.32004197,  0.99010891])"
      ]
     },
     "execution_count": 5,
     "metadata": {},
     "output_type": "execute_result"
    },
    {
     "data": {
      "image/png": "[encoded data removed]",
      "text/plain": [
       "<matplotlib.figure.Figure at 0x108afe910>"
      ]
     },
     "metadata": {},
     "output_type": "display_data"
    }
   ],
   "source": [
    "def solve_cross(k):\n",
    "    x = np.linspace(0.00001, 100, 10000)\n",
    "    index = np.where(np.diff(np.sign(f1(x,k)-f2(x,k))))[0]\n",
    "    plt.plot(x,f1(x,k))\n",
    "    plt.plot(x,f2(x,k))\n",
    "\n",
    "    return x[index]\n",
    "solve_cross(k)"
   ]
  },
  {
   "cell_type": "code",
   "execution_count": null,
   "metadata": {
    "collapsed": true
   },
   "outputs": [],
   "source": []
  }
 ],
 "metadata": {
  "kernelspec": {
   "display_name": "Python 2",
   "language": "python",
   "name": "python2"
  },
  "language_info": {
   "codemirror_mode": {
    "name": "ipython",
    "version": 2
   },
   "file_extension": ".py",
   "mimetype": "text/x-python",
   "name": "python",
   "nbconvert_exporter": "python",
   "pygments_lexer": "ipython2",
   "version": "2.7.12"
  }
 },
 "nbformat": 4,
 "nbformat_minor": 0
}
