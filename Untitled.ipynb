{
 "cells": [
  {
   "cell_type": "code",
   "execution_count": null,
   "metadata": {
    "collapsed": false
   },
   "outputs": [
    {
     "data": {
      "image/png": "[encoded data removed]",
      "text/plain": [
       "<matplotlib.figure.Figure at 0x11174a210>"
      ]
     },
     "metadata": {},
     "output_type": "display_data"
    }
   ],
   "source": [
    "import numpy as np\n",
    "import matplotlib.pyplot as plt\n",
    "import os\n",
    "% matplotlib inline\n",
    "\n",
    "def hill(x,k0,k1,k2,n):\n",
    "    return k0+k1*(x**n)/(x**n+k2**n)\n",
    "\n",
    "def derivative_value(u, t, k):\n",
    "    A, I, F = u\n",
    "    dAdt = hill(A,k[0],k[1],k[2],3)*I-hill(F,k[3],k[4],1,1)*A\n",
    "    dIdt = -dAdt\n",
    "    dFdt = k[5]*A - k[6]*F\n",
    "    return [dAdt, dIdt, dFdt]\n",
    "\n",
    "def solve_cross(k,plot=0):\n",
    "    x = np.linspace(0.00001, 1, 10000)\n",
    "    act = hill(x,k[0],k[1],k[2],3)*(k[7]-x)\n",
    "    deact = hill(k[5]/k[6]*x,k[3],k[4],1,1)*x\n",
    "    index = np.where(np.diff(np.sign(act - deact)))[0]\n",
    "    ss_A = x[index[0]]\n",
    "    ss = [ss_A,k[7]-ss_A,k[5]/k[6]*ss_A]\n",
    "    if plot:\n",
    "        plt.figure()\n",
    "        plt.subplot(111,ylim=[0,1])\n",
    "        plt.plot(x,act)\n",
    "        plt.plot(x,deact)\n",
    "        c0 = np.copy(ss)\n",
    "        c0[0] = c0[0]+plot\n",
    "        t_total = 60\n",
    "        tvec = np.arange(0,t_total)\n",
    "        plt.figure()\n",
    "        c = odeint(derivative_value,c0,tvec,args=tuple([k_R[i]]))\n",
    "        plt.subplot(111,ylim=[0,1.5])\n",
    "        plt.plot(tvec,c[:,0],'r')\n",
    "        plt.plot(tvec,c[:,1],'k')\n",
    "        plt.plot(tvec,c[:,2],'g')\n",
    "    return ss\n",
    "\n",
    "k_R = [[0.05,1,0.4, 0.5,0.4, 0.2,0.025,1],\n",
    "       [0.05,1,0.4, 0.5,0.56, 0.2,0.025,1],\n",
    "       [0.05,1,0.4, 0.5,0.6, 0.2,0.025,1],\n",
    "       [0.15,1,0.4, 0.5,0.8, 0.2,0.025,1],\n",
    "       [0.15,1,0.4, 0.5,1.02, 0.2,0.025,1],\n",
    "       [0.15,1,0.4, 0.5,1.1, 0.2,0.025,1],\n",
    "       [0.2,1,0.4, 0.5,1.1, 0.2,0.025,1],\n",
    "       [0.2,1,0.4, 0.5,1.24, 0.2,0.025,1],\n",
    "       [0.2,1,0.4, 0.5,1.3, 0.2,0.025,1]]\n",
    "\n",
    "i = 7\n",
    "from scipy.integrate import odeint\n",
    "c0 = solve_cross(k_R[i],plot=0.1)\n"
   ]
  },
  {
   "cell_type": "code",
   "execution_count": null,
   "metadata": {
    "collapsed": true
   },
   "outputs": [],
   "source": []
  },
  {
   "cell_type": "code",
   "execution_count": 22,
   "metadata": {
    "collapsed": false
   },
   "outputs": [],
   "source": [
    "basedir = os.path.expanduser('~/Documents/data_working/pde2d/')\n",
    "k_D = [0.1,1,0.1]\n",
    "chemical=0;amp=0.1;start=0.1;end=0.2;cpi=0.5;cpj=0.5;cpdi=0.05;cpdj=0.05;\n",
    "p = [chemical,cpi,cpdi,amp]\n",
    "T = 10\n",
    "with open(basedir+\"params.txt\",'w+') as myfile:\n",
    "    for i in range(9):\n",
    "        line = str(i)+\";\"+\";\".join([\",\".join([\"{0:.3g}\".format(x) for x in t]) for t in [k_R[i],solve_cross(k_R[i]),k_D,p]])+\";\"+str(T)+\"\\n\"\n",
    "        myfile.write(line)\n",
    "\n"
   ]
  },
  {
   "cell_type": "code",
   "execution_count": null,
   "metadata": {
    "collapsed": false
   },
   "outputs": [],
   "source": []
  },
  {
   "cell_type": "code",
   "execution_count": 21,
   "metadata": {
    "collapsed": false
   },
   "outputs": [],
   "source": [
    "basedir = os.path.expanduser('~/Documents/data_working/pde2d/')\n",
    "k_D = [0.1,1,0.1]\n",
    "chemical=0;amp=0.1;start=0.1;end=0.2;cpi=0.5;cpj=0.5;cpdi=0.05;cpdj=0.05;\n",
    "p = [chemical,amp,start,end,cpi,cpj,cpdi,cpdj]\n",
    "T = 10\n",
    "with open(basedir+\"params.txt\",'w+') as myfile:\n",
    "    for i in range(9):\n",
    "        line = str(i)+\";\"+\";\".join([\",\".join([\"{0:.3g}\".format(x) for x in t]) for t in [k_R[i],solve_cross(k_R[i]),k_D,p]])+\";\"+str(T)+\"\\n\"\n",
    "        myfile.write(line)\n"
   ]
  },
  {
   "cell_type": "code",
   "execution_count": null,
   "metadata": {
    "collapsed": false
   },
   "outputs": [],
   "source": []
  },
  {
   "cell_type": "code",
   "execution_count": null,
   "metadata": {
    "collapsed": false
   },
   "outputs": [],
   "source": []
  },
  {
   "cell_type": "code",
   "execution_count": null,
   "metadata": {
    "collapsed": true
   },
   "outputs": [],
   "source": []
  }
 ],
 "metadata": {
  "kernelspec": {
   "display_name": "Python 2",
   "language": "python",
   "name": "python2"
  },
  "language_info": {
   "codemirror_mode": {
    "name": "ipython",
    "version": 2
   },
   "file_extension": ".py",
   "mimetype": "text/x-python",
   "name": "python",
   "nbconvert_exporter": "python",
   "pygments_lexer": "ipython2",
   "version": "2.7.11"
  }
 },
 "nbformat": 4,
 "nbformat_minor": 0
}
