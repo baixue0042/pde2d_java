{
 "cells": [
  {
   "cell_type": "code",
   "execution_count": 33,
   "metadata": {},
   "outputs": [],
   "source": [
    "import os\n",
    "import matplotlib.pyplot as plt\n",
    "import numpy as np\n",
    "from read_roi import read_roi_zip\n",
    "\n",
    "\n",
    "filename = os.path.expanduser('~/Documents/data_working/RoiSet2.zip')\n",
    "\n",
    "rois = read_roi_zip(filename)"
   ]
  },
  {
   "cell_type": "code",
   "execution_count": 34,
   "metadata": {},
   "outputs": [],
   "source": [
    "keys = [key for key in rois.keys() if not ('-' in key)]\n",
    "trajs = [roi[1] for roi in list(rois.items()) if (len(roi[1]['name'])<14)]\n"
   ]
  },
  {
   "cell_type": "code",
   "execution_count": 15,
   "metadata": {},
   "outputs": [],
   "source": [
    "\n"
   ]
  },
  {
   "cell_type": "code",
   "execution_count": 35,
   "metadata": {
    "scrolled": true
   },
   "outputs": [
    {
     "data": {
      "text/plain": [
       "{'n': 18,\n",
       " 'name': '1299-65',\n",
       " 'position': 235,\n",
       " 'type': 'traced',\n",
       " 'x': [151,\n",
       "  152,\n",
       "  152,\n",
       "  153,\n",
       "  153,\n",
       "  152,\n",
       "  152,\n",
       "  148,\n",
       "  148,\n",
       "  147,\n",
       "  147,\n",
       "  146,\n",
       "  146,\n",
       "  147,\n",
       "  147,\n",
       "  148,\n",
       "  148,\n",
       "  151,\n",
       "  151,\n",
       "  151,\n",
       "  151,\n",
       "  151,\n",
       "  151,\n",
       "  151,\n",
       "  151,\n",
       "  151,\n",
       "  151],\n",
       " 'y': [205,\n",
       "  205,\n",
       "  206,\n",
       "  206,\n",
       "  209,\n",
       "  209,\n",
       "  210,\n",
       "  210,\n",
       "  209,\n",
       "  209,\n",
       "  208,\n",
       "  208,\n",
       "  206,\n",
       "  206,\n",
       "  205,\n",
       "  205,\n",
       "  204,\n",
       "  204,\n",
       "  205,\n",
       "  205,\n",
       "  205,\n",
       "  205,\n",
       "  205,\n",
       "  205,\n",
       "  205,\n",
       "  205,\n",
       "  205]}"
      ]
     },
     "execution_count": 35,
     "metadata": {},
     "output_type": "execute_result"
    }
   ],
   "source": [
    "traj[0]"
   ]
  },
  {
   "cell_type": "code",
   "execution_count": 37,
   "metadata": {},
   "outputs": [
    {
     "data": {
      "image/png": "[encoded data removed]",
      "text/plain": [
       "<matplotlib.figure.Figure at 0x111085a58>"
      ]
     },
     "metadata": {},
     "output_type": "display_data"
    }
   ],
   "source": [
    "%matplotlib inline\n",
    "fig = plt.figure()\n",
    "ax = plt.subplot(111)\n",
    "colormap = plt.cm.jet \n",
    "\n",
    "colors = []\n",
    "for i in [1]:#range(len(keys)):\n",
    "    traj = [t for t in trajs if (keys[i] in t['name'])&(t['position']%5==0)]\n",
    "    traj = [traj[-1]]+traj[:-1]#move last element to the first position -> i-th traj\n",
    "    for it in range(len(traj)):\n",
    "        traj_it_x = traj[it]['x'];traj_it_x.append(traj_it_x[0])\n",
    "        traj_it_y = traj[it]['y'];traj_it_y.append(traj_it_y[0])\n",
    "        ax.plot(traj_it_x,traj_it_y)\n",
    "        colors.append(colormap(it/len(traj)))\n",
    "for i,j in enumerate(ax.lines):\n",
    "    j.set_color(colors[i])\n",
    "fig.savefig(os.path.expanduser('~/Documents/data_working/')+'rokRNAi.eps',format='eps')"
   ]
  },
  {
   "cell_type": "code",
   "execution_count": 6,
   "metadata": {},
   "outputs": [
    {
     "data": {
      "text/plain": [
       "2"
      ]
     },
     "execution_count": 6,
     "metadata": {},
     "output_type": "execute_result"
    }
   ],
   "source": []
  },
  {
   "cell_type": "code",
   "execution_count": 19,
   "metadata": {},
   "outputs": [],
   "source": []
  },
  {
   "cell_type": "code",
   "execution_count": null,
   "metadata": {},
   "outputs": [],
   "source": []
  }
 ],
 "metadata": {
  "kernelspec": {
   "display_name": "Python 3",
   "language": "python",
   "name": "python3"
  },
  "language_info": {
   "codemirror_mode": {
    "name": "ipython",
    "version": 3
   },
   "file_extension": ".py",
   "mimetype": "text/x-python",
   "name": "python",
   "nbconvert_exporter": "python",
   "pygments_lexer": "ipython3",
   "version": "3.6.3"
  }
 },
 "nbformat": 4,
 "nbformat_minor": 1
}
